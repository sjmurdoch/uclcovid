{
 "cells": [
  {
   "cell_type": "code",
   "execution_count": 1,
   "metadata": {},
   "outputs": [],
   "source": [
    "from bs4 import BeautifulSoup\n",
    "from pathlib import Path\n",
    "from datetime import datetime, timedelta\n",
    "import json"
   ]
  },
  {
   "cell_type": "code",
   "execution_count": 2,
   "metadata": {},
   "outputs": [],
   "source": [
    "data_fields = {\n",
    "    9: \"staff.on\",\n",
    "    10: \"staff.off\",\n",
    "    11: \"student.on\",\n",
    "    12: \"student.off\",\n",
    "}\n",
    "text_fields = {\n",
    "    1: \"Staff\",\n",
    "    2: \"Students\",\n",
    "    4: \"On campus *\",\n",
    "    5: \"Off campus **\",\n",
    "    6: \"On campus *\",\n",
    "    7: \"Off campus **\",\n",
    "    8: \"New cases in last counted 24 hour period ***\",\n",
    "    13: \"New cases in last counted 7 day period ***\",\n",
    "    18: \"Total cases since 28 Sept 2020 (start of Term 1)\",\n",
    "}\n",
    "def parse_file(fh):\n",
    "    soup = BeautifulSoup(fh, 'html.parser')\n",
    "    table = soup.select_one('#current-confirmed-cases-covid-19 > div.site-content.wrapper > div > div > div > article > div > table')\n",
    "    data = {}\n",
    "    for i, tag in enumerate(table.find_all([\"td\",\"th\"])):\n",
    "        if i in text_fields:\n",
    "            assert(tag.string == text_fields[i])\n",
    "        elif i in data_fields:\n",
    "            data[data_fields[i]] = int(tag.string)\n",
    "            \n",
    "    return data"
   ]
  },
  {
   "cell_type": "code",
   "execution_count": 3,
   "metadata": {},
   "outputs": [],
   "source": [
    "p = Path('data')\n",
    "last_data = None\n",
    "dataset_names = ['staff.on', 'staff.off', 'student.on', 'student.off']\n",
    "datasets = {}\n",
    "for file in p.glob(\"../data/covid-*.html\"):\n",
    "    fh = open(file)\n",
    "    file_date = datetime.strptime(file.name, \"covid-%Y-%m-%dT%H-%M-%S.html\").date() - timedelta(days = 1)\n",
    "    data = parse_file(fh)\n",
    "    if data != last_data:\n",
    "        for n in dataset_names:\n",
    "            ds = datasets.setdefault(n, [])\n",
    "            ds.append((file_date.strftime(\"%Y-%m-%d\"), data[n]))\n",
    "            ds.append(((file_date + timedelta(days=1)).strftime(\"%Y-%m-%d\"), data[n]*1.1))\n",
    "        last_data = data\n",
    "        \n",
    "ofh = open(\"../data/covid.json\", \"w\")\n",
    "json.dump(datasets, ofh, sort_keys=True, indent=4)\n",
    "ofh.close()"
   ]
  }
 ],
 "metadata": {
  "kernelspec": {
   "display_name": "Python 3",
   "language": "python",
   "name": "python3"
  },
  "language_info": {
   "codemirror_mode": {
    "name": "ipython",
    "version": 3
   },
   "file_extension": ".py",
   "mimetype": "text/x-python",
   "name": "python",
   "nbconvert_exporter": "python",
   "pygments_lexer": "ipython3",
   "version": "3.6.12"
  }
 },
 "nbformat": 4,
 "nbformat_minor": 4
}
