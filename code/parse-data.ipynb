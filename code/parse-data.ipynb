{
 "cells": [
  {
   "cell_type": "code",
   "execution_count": 1,
   "metadata": {},
   "outputs": [],
   "source": [
    "from bs4 import BeautifulSoup\n",
    "from pathlib import Path\n",
    "from datetime import datetime, timedelta\n",
    "import csv\n",
    "import json"
   ]
  },
  {
   "cell_type": "code",
   "execution_count": 2,
   "metadata": {},
   "outputs": [],
   "source": [
    "data_fields = {\n",
    "    9: \"staff.on\",\n",
    "    10: \"staff.off\",\n",
    "    11: \"student.on\",\n",
    "    12: \"student.off\",\n",
    "    \n",
    "    14: \"staff7.on\",\n",
    "    15: \"staff7.off\",\n",
    "    16: \"student7.on\",\n",
    "    17: \"student7.off\",\n",
    "    \n",
    "    19: \"stafftotal.on\",\n",
    "    20: \"stafftotal.off\",\n",
    "    21: \"studenttotal.on\",\n",
    "    22: \"studenttotal.off\",\n",
    "}\n",
    "text_fields = {\n",
    "    1: \"Staff\",\n",
    "    2: \"Students\",\n",
    "    4: \"On campus *\",\n",
    "    5: \"Off campus **\",\n",
    "    6: \"On campus *\",\n",
    "    7: \"Off campus **\",\n",
    "    8: \"New cases in last counted 24 hour period ***\",\n",
    "    13: \"New cases in last counted 7 day period ***\",\n",
    "    18: \"Total cases since 28 Sept 2020 (start of Term 1)\",\n",
    "}\n",
    "def parse_file(fh):\n",
    "    soup = BeautifulSoup(fh, 'html.parser')\n",
    "    table = soup.select_one('#current-confirmed-cases-covid-19 > div.site-content.wrapper > div > div > div > article > div > table')\n",
    "    data = {}\n",
    "    for i, tag in enumerate(table.find_all([\"td\",\"th\"])):\n",
    "        if i in text_fields:\n",
    "            assert(tag.string == text_fields[i])\n",
    "        elif i in data_fields:\n",
    "            data[data_fields[i]] = int(tag.string)\n",
    "            \n",
    "    return table, data"
   ]
  },
  {
   "cell_type": "code",
   "execution_count": 3,
   "metadata": {},
   "outputs": [
    {
     "name": "stdout",
     "output_type": "stream",
     "text": [
      "Loading from ..\\data\\covid-2020-10-12T20-01-30.html\n",
      "New data at 2020-10-11\n",
      "Loading from ..\\data\\covid-2020-10-13T21-51-01.html\n",
      "New data at 2020-10-12\n",
      "Loading from ..\\data\\covid-2020-10-14T08-51-01.html\n",
      "New data at 2020-10-13\n"
     ]
    }
   ],
   "source": [
    "p = Path('../data')\n",
    "duplicates = p / 'duplicates'\n",
    "duplicates.mkdir(exist_ok=True)\n",
    "last_data = None\n",
    "dataset_names = ['staff.on', 'staff.off', 'student.on', 'student.off',\n",
    "                 'staff7.on', 'staff7.off', 'student7.on', 'student7.off',\n",
    "                 'stafftotal.on', 'stafftotal.off', 'studenttotal.on', 'studenttotal.off']\n",
    "datasets = {} # For JSON\n",
    "rows = [] # For CSV\n",
    "rows.append([\"date\"] + dataset_names)\n",
    "for file in p.glob(\"covid-*.html\"):\n",
    "    print(\"Loading from\", file)\n",
    "    fh = file.open()\n",
    "    file_date = datetime.strptime(file.name, \"covid-%Y-%m-%dT%H-%M-%S.html\").date() - timedelta(days = 1)\n",
    "    table, data = parse_file(fh)\n",
    "    fh.close()\n",
    "    row = []\n",
    "    row.append(file_date.strftime(\"%Y-%m-%d\"))\n",
    "    if data != last_data:\n",
    "        print(\"New data at\", file_date)\n",
    "        for n in dataset_names:\n",
    "            ds = datasets.setdefault(n, [])\n",
    "            ds.append((file_date.strftime(\"%Y-%m-%d\"), data[n]))\n",
    "            row.append(data[n])\n",
    "        rows.append(row)\n",
    "        last_data = data\n",
    "    else:\n",
    "        print(\"File is a duplicate\", file.name)\n",
    "        #file.rename(duplicates / file.name)\n",
    "        \n",
    "ofh = open(\"../data/covid.json\", \"w\", newline='')\n",
    "json.dump(datasets, ofh, sort_keys=True, indent=4)\n",
    "ofh.close()\n",
    "\n",
    "with open(\"../data/covid.csv\", \"w\", newline='') as csvfile:\n",
    "    datawriter = csv.writer(csvfile)\n",
    "    for row in rows:\n",
    "        datawriter.writerow(row)"
   ]
  },
  {
   "cell_type": "code",
   "execution_count": 4,
   "metadata": {},
   "outputs": [
    {
     "data": {
      "text/plain": [
       "[(0, <th scope=\"col\">Â </th>),\n",
       " (1, <th colspan=\"2\" rowspan=\"1\" scope=\"col\">Staff</th>),\n",
       " (2, <th colspan=\"2\" rowspan=\"1\" scope=\"col\">Students</th>),\n",
       " (3, <td>Â </td>),\n",
       " (4, <td>On campus *</td>),\n",
       " (5, <td>Off campus **</td>),\n",
       " (6, <td>On campus *</td>),\n",
       " (7, <td>Off campus **</td>),\n",
       " (8, <td>New cases in last counted 24 hour period ***</td>),\n",
       " (9, <td>1</td>),\n",
       " (10, <td>0</td>),\n",
       " (11, <td>12</td>),\n",
       " (12, <td>7</td>),\n",
       " (13, <td>New cases in last counted 7 day period ***</td>),\n",
       " (14, <td>5</td>),\n",
       " (15, <td>2</td>),\n",
       " (16, <td>117</td>),\n",
       " (17, <td>12</td>),\n",
       " (18, <td>Total cases since 28 Sept 2020 (start of Term 1)</td>),\n",
       " (19, <td>8</td>),\n",
       " (20, <td>3</td>),\n",
       " (21, <td>138</td>),\n",
       " (22, <td>24</td>)]"
      ]
     },
     "execution_count": 4,
     "metadata": {},
     "output_type": "execute_result"
    }
   ],
   "source": [
    "list(enumerate(table.find_all([\"td\",\"th\"])))"
   ]
  },
  {
   "cell_type": "code",
   "execution_count": null,
   "metadata": {},
   "outputs": [],
   "source": []
  }
 ],
 "metadata": {
  "kernelspec": {
   "display_name": "Python 3",
   "language": "python",
   "name": "python3"
  },
  "language_info": {
   "codemirror_mode": {
    "name": "ipython",
    "version": 3
   },
   "file_extension": ".py",
   "mimetype": "text/x-python",
   "name": "python",
   "nbconvert_exporter": "python",
   "pygments_lexer": "ipython3",
   "version": "3.6.12"
  }
 },
 "nbformat": 4,
 "nbformat_minor": 4
}
