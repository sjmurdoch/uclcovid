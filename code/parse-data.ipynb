{
 "cells": [
  {
   "cell_type": "code",
   "execution_count": 1,
   "metadata": {},
   "outputs": [],
   "source": [
    "import sys\n",
    "import math\n",
    "import json\n",
    "import pandas as pd\n",
    "import numpy as np\n",
    "from bs4 import BeautifulSoup\n",
    "from pathlib import Path\n",
    "from datetime import datetime, timedelta, date\n",
    "from collections import defaultdict"
   ]
  },
  {
   "cell_type": "code",
   "execution_count": 2,
   "metadata": {},
   "outputs": [],
   "source": [
    "DATA_FIELDS = {\n",
    "    9: \"staff.on\",\n",
    "    10: \"staff.off\",\n",
    "    11: \"student.on\",\n",
    "    12: \"student.off\",\n",
    "    \n",
    "    14: \"staff7.on\",\n",
    "    15: \"staff7.off\",\n",
    "    16: \"student7.on\",\n",
    "    17: \"student7.off\",\n",
    "    \n",
    "    19: \"stafftotal.on\",\n",
    "    20: \"stafftotal.off\",\n",
    "    21: \"studenttotal.on\",\n",
    "    22: \"studenttotal.off\",\n",
    "}\n",
    "TEXT_FIELDS = {\n",
    "    1: \"Staff\",\n",
    "    2: \"Students\",\n",
    "    4: \"On campus *\",\n",
    "    5: \"Off campus **\",\n",
    "    6: \"On campus *\",\n",
    "    7: \"Off campus **\",\n",
    "    8: \"New cases in last counted 24 hour period ***\",\n",
    "    13: \"New cases in last counted 7 day period ***\",\n",
    "    18: \"Total cases since 28 Sept 2020 (start of Term 1)\",\n",
    "}\n",
    "\n",
    "DEBUG=False\n",
    "MONDAY = 0\n",
    "DATE_LABEL = 'date'\n",
    "DATASET_NAMES = ['staff.on', 'staff.off', 'student.on', 'student.off',\n",
    "                 'staff7.on', 'staff7.off', 'student7.on', 'student7.off',\n",
    "                 'stafftotal.on', 'stafftotal.off', 'studenttotal.on', 'studenttotal.off']\n",
    "\n",
    "## These figures need smoothing over the weekend\n",
    "SMOOTHED_NAMES = ['staff.on', 'staff.off', 'student.on', 'student.off']\n",
    "\n",
    "def debug_log(*args):\n",
    "    if DEBUG:\n",
    "        print(*args, file=sys.stderr)\n",
    "\n",
    "def parse_file(fh):\n",
    "    soup = BeautifulSoup(fh, 'html.parser')\n",
    "    table = soup.select_one('#current-confirmed-cases-covid-19 > div.site-content.wrapper > div > div > div > article > div > table')\n",
    "    data = {}\n",
    "    for i, tag in enumerate(table.find_all([\"td\",\"th\"])):\n",
    "        if i in TEXT_FIELDS:\n",
    "            assert(tag.string == TEXT_FIELDS[i])\n",
    "        elif i in DATA_FIELDS:\n",
    "            data[DATA_FIELDS[i]] = int(tag.string)\n",
    "            \n",
    "    return table, data\n",
    "        \n",
    "def to_json(df, jsonfile):\n",
    "    datasets = defaultdict(list)\n",
    "    for n, rows in df.iteritems():\n",
    "        ds = datasets[n]\n",
    "        for d, v in rows.iteritems():\n",
    "            if not math.isnan(v):\n",
    "                ds.append((d.strftime(\"%Y-%m-%d\"), v))\n",
    "    json.dump(datasets, jsonfile, sort_keys=True, indent=4)"
   ]
  },
  {
   "cell_type": "code",
   "execution_count": 14,
   "metadata": {},
   "outputs": [],
   "source": [
    "p = Path('../data')\n",
    "duplicates = p / 'duplicates'\n",
    "duplicates.mkdir(exist_ok=True)\n",
    "original = p / 'original'\n",
    "last_data = None\n",
    "\n",
    "## Data to build into PANDAS dataframe\n",
    "pd_data = []\n",
    "\n",
    "tfh = open(p / 'original-tables.html', \"w\")\n",
    "tfh.write('<html><head><meta charset=\"UTF-8\"></head><body>\\n')\n",
    "for file in original.glob(\"covid-*.html\"):\n",
    "    debug_log(\"Loading from\", file)\n",
    "    \n",
    "    with file.open() as fh:\n",
    "        file_date = datetime.strptime(file.name, \"covid-%Y-%m-%dT%H-%M-%S.html\").date()\n",
    "        if file_date.weekday() == 0:\n",
    "            ## Monday, data is correct as of Friday 5pm\n",
    "            data_date = file_date - timedelta(days = 3)\n",
    "        else:\n",
    "            ## other days, data is correct as of previous day at 5pm\n",
    "            data_date = file_date - timedelta(days = 1)\n",
    "        table, data = parse_file(fh)\n",
    "    \n",
    "    if data != last_data:\n",
    "        debug_log(\"New data at\", file_date)\n",
    "        tfh.write(\"<h2>\" + f)\n",
    "        tfh.write(str(table))\n",
    " \n",
    "        pd_row = []\n",
    "        pd_row.append(data_date)\n",
    "        for n in DATASET_NAMES:\n",
    "            pd_row.append(data[n])\n",
    "        pd_data.append(pd_row)\n",
    "        \n",
    "        last_data = data\n",
    "    else:\n",
    "        debug_log(\"File is a duplicate\", file.name)\n",
    "        #file.rename(duplicates / file.name)\n",
    "tfh.write('</body></html>')\n",
    "tfh.close()\n",
    "\n",
    "## Create the PANDAS data frame\n",
    "df = pd.DataFrame(pd_data, columns = [DATE_LABEL] + DATASET_NAMES, dtype='float64')\n",
    "df.set_index(DATE_LABEL, inplace=True, verify_integrity=True)\n",
    "\n",
    "## Export raw data to CSV\n",
    "with open(\"../data/covid_raw.csv\", \"w\") as csvfile:\n",
    "    df.to_csv(csvfile, line_terminator=\"\\r\\n\")\n",
    "\n",
    "## Export raw data to JSON\n",
    "with open(\"../data/covid_raw.json\", \"w\") as jsonfile:\n",
    "    to_json(df, jsonfile)"
   ]
  },
  {
   "cell_type": "code",
   "execution_count": null,
   "metadata": {},
   "outputs": [],
   "source": [
    "## Add weekend data\n",
    "extra_rows = []\n",
    "df_smoothed = df.copy()\n",
    "for d in df_smoothed.index:\n",
    "    if d.weekday() == MONDAY:\n",
    "        ## Share weekend + Monday data over three days\n",
    "        extra = df_smoothed.loc[d, SMOOTHED_NAMES] / 3.0\n",
    "        ## Replace Monday data with its share\n",
    "        df_smoothed.loc[d, SMOOTHED_NAMES] = extra\n",
    "        ## Add in Saturday and Sunday's data\n",
    "        for i in [2, 1]:\n",
    "            entry_date = d - timedelta(days = i)\n",
    "            extra_rows.append([entry_date] + list(extra))\n",
    "\n",
    "extra_df = pd.DataFrame(extra_rows, columns=[DATE_LABEL] + SMOOTHED_NAMES, dtype='float64')\n",
    "extra_df.set_index(DATE_LABEL, inplace=True, verify_integrity=True)\n",
    "df_smoothed = pd.concat([df_smoothed, extra_df])\n",
    "df_smoothed.sort_index(inplace=True)\n",
    "\n",
    "## Export smoothed data to CSV\n",
    "with open(\"../data/covid.csv\", \"w\") as csvfile:\n",
    "    df_smoothed.to_csv(csvfile, line_terminator=\"\\r\\n\")\n",
    "\n",
    "## Export smoothed data to JSON\n",
    "with open(\"../data/covid.json\", \"w\") as jsonfile:\n",
    "    to_json(df_smoothed, jsonfile)"
   ]
  },
  {
   "cell_type": "code",
   "execution_count": null,
   "metadata": {},
   "outputs": [],
   "source": [
    "df_smoothed"
   ]
  },
  {
   "cell_type": "code",
   "execution_count": null,
   "metadata": {},
   "outputs": [],
   "source": [
    "df"
   ]
  },
  {
   "cell_type": "code",
   "execution_count": null,
   "metadata": {},
   "outputs": [],
   "source": [
    "df.loc[:,[\"staff7.on\",\"staff7.off\",\"student7.on\",\"student7.off\"]]"
   ]
  },
  {
   "cell_type": "code",
   "execution_count": null,
   "metadata": {},
   "outputs": [],
   "source": [
    "f=df.loc[:,[\"staff7.on\",\"staff7.off\",\"student7.on\",\"student7.off\"]].diff().dropna()\n",
    "f.values"
   ]
  },
  {
   "cell_type": "code",
   "execution_count": null,
   "metadata": {},
   "outputs": [],
   "source": [
    "df.loc[date(2020,10,12):,[\"staff.on\",\"staff.off\",\"student.on\",\"student.off\"]].sub(f.values)"
   ]
  },
  {
   "cell_type": "code",
   "execution_count": 6,
   "metadata": {},
   "outputs": [
    {
     "data": {
      "text/plain": [
       "<table border=\"1\" cellpadding=\"1\" cellspacing=\"1\"><thead><tr><th scope=\"col\">Â </th><th colspan=\"2\" rowspan=\"1\" scope=\"col\">Staff</th><th colspan=\"2\" rowspan=\"1\" scope=\"col\">Students</th></tr><tr><td>Â </td><td>On campus *</td><td>Off campus **</td><td>On campus *</td><td>Off campus **</td></tr><tr><td>New cases in last counted 24 hour period ***</td><td>0</td><td>0</td><td>8</td><td>8</td></tr><tr><td>New cases in last counted 7 day period ***</td><td>2</td><td>4</td><td>114</td><td>20</td></tr><tr><td>Total cases since 28 Sept 2020 (start of Term 1)</td><td>9</td><td>5</td><td>181</td><td>44</td></tr></thead></table>"
      ]
     },
     "execution_count": 6,
     "metadata": {},
     "output_type": "execute_result"
    }
   ],
   "source": [
    "table"
   ]
  },
  {
   "cell_type": "code",
   "execution_count": 7,
   "metadata": {},
   "outputs": [
    {
     "data": {
      "text/plain": [
       "bs4.element.Tag"
      ]
     },
     "execution_count": 7,
     "metadata": {},
     "output_type": "execute_result"
    }
   ],
   "source": [
    "type(table)"
   ]
  },
  {
   "cell_type": "code",
   "execution_count": 13,
   "metadata": {},
   "outputs": [
    {
     "data": {
      "text/plain": [
       "b'<table border=\"1\" cellpadding=\"1\" cellspacing=\"1\">\\n <thead>\\n  <tr>\\n   <th scope=\"col\">\\n    \\xc3\\x82\\n   </th>\\n   <th colspan=\"2\" rowspan=\"1\" scope=\"col\">\\n    Staff\\n   </th>\\n   <th colspan=\"2\" rowspan=\"1\" scope=\"col\">\\n    Students\\n   </th>\\n  </tr>\\n  <tr>\\n   <td>\\n    \\xc3\\x82\\n   </td>\\n   <td>\\n    On campus *\\n   </td>\\n   <td>\\n    Off campus **\\n   </td>\\n   <td>\\n    On campus *\\n   </td>\\n   <td>\\n    Off campus **\\n   </td>\\n  </tr>\\n  <tr>\\n   <td>\\n    New cases in last counted 24 hour period ***\\n   </td>\\n   <td>\\n    0\\n   </td>\\n   <td>\\n    0\\n   </td>\\n   <td>\\n    8\\n   </td>\\n   <td>\\n    8\\n   </td>\\n  </tr>\\n  <tr>\\n   <td>\\n    New cases in last counted 7 day period ***\\n   </td>\\n   <td>\\n    2\\n   </td>\\n   <td>\\n    4\\n   </td>\\n   <td>\\n    114\\n   </td>\\n   <td>\\n    20\\n   </td>\\n  </tr>\\n  <tr>\\n   <td>\\n    Total cases since 28 Sept 2020 (start of Term 1)\\n   </td>\\n   <td>\\n    9\\n   </td>\\n   <td>\\n    5\\n   </td>\\n   <td>\\n    181\\n   </td>\\n   <td>\\n    44\\n   </td>\\n  </tr>\\n </thead>\\n</table>\\n'"
      ]
     },
     "execution_count": 13,
     "metadata": {},
     "output_type": "execute_result"
    }
   ],
   "source": [
    "table.prettify('utf-8')"
   ]
  },
  {
   "cell_type": "code",
   "execution_count": null,
   "metadata": {},
   "outputs": [],
   "source": []
  }
 ],
 "metadata": {
  "kernelspec": {
   "display_name": "Python 3",
   "language": "python",
   "name": "python3"
  },
  "language_info": {
   "codemirror_mode": {
    "name": "ipython",
    "version": 3
   },
   "file_extension": ".py",
   "mimetype": "text/x-python",
   "name": "python",
   "nbconvert_exporter": "python",
   "pygments_lexer": "ipython3",
   "version": "3.6.12"
  }
 },
 "nbformat": 4,
 "nbformat_minor": 4
}
